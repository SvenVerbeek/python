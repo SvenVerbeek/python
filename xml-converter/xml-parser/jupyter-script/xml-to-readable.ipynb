{
 "cells": [
  {
   "cell_type": "code",
   "execution_count": 2,
   "id": "002852b1-88e4-4360-8942-496251db5f84",
   "metadata": {},
   "outputs": [
    {
     "name": "stdout",
     "output_type": "stream",
     "text": [
      "Requirement already satisfied: pandas in c:\\python311\\lib\\site-packages (2.0.3)\n",
      "Requirement already satisfied: python-dateutil>=2.8.2 in c:\\python311\\lib\\site-packages (from pandas) (2.8.2)\n",
      "Requirement already satisfied: pytz>=2020.1 in c:\\python311\\lib\\site-packages (from pandas) (2023.3)\n",
      "Requirement already satisfied: tzdata>=2022.1 in c:\\python311\\lib\\site-packages (from pandas) (2023.3)\n",
      "Requirement already satisfied: numpy>=1.21.0 in c:\\python311\\lib\\site-packages (from pandas) (1.25.2)\n",
      "Requirement already satisfied: six>=1.5 in c:\\python311\\lib\\site-packages (from python-dateutil>=2.8.2->pandas) (1.16.0)\n",
      "Note: you may need to restart the kernel to use updated packages.\n"
     ]
    }
   ],
   "source": [
    "pip install pandas"
   ]
  },
  {
   "cell_type": "code",
   "execution_count": 3,
   "id": "4c0935ca-d183-4fe7-ae07-71b6c4cd8854",
   "metadata": {},
   "outputs": [],
   "source": [
    "import pandas as pd"
   ]
  },
  {
   "cell_type": "code",
   "execution_count": 4,
   "id": "8bd31e95-9a37-4ee4-832e-717306071915",
   "metadata": {},
   "outputs": [],
   "source": [
    "import numpy as np"
   ]
  },
  {
   "cell_type": "code",
   "execution_count": 5,
   "id": "ac30f6e3-45d5-4d94-ac68-15a8ecfbb85b",
   "metadata": {},
   "outputs": [],
   "source": [
    "import xml.etree.ElementTree as ET"
   ]
  },
  {
   "cell_type": "code",
   "execution_count": 6,
   "id": "843814c5-316d-4f28-8fcf-94bbd94ca9b5",
   "metadata": {},
   "outputs": [],
   "source": [
    "from tkinter import Tk\n",
    "from tkinter.filedialog import askopenfilename"
   ]
  },
  {
   "cell_type": "code",
   "execution_count": 7,
   "id": "a618b0b1-2b78-42ad-8534-5141eee4530d",
   "metadata": {},
   "outputs": [],
   "source": [
    "import re"
   ]
  },
  {
   "cell_type": "code",
   "execution_count": 8,
   "id": "1cea5225-d0ef-44a3-ba3e-914e925182e9",
   "metadata": {},
   "outputs": [],
   "source": [
    "Tk().withdraw() # we don't want a full GUI, so keep the root window from appearing\n",
    "file = askopenfilename() # show an \"Open\" dialog box and return the path to the selected file"
   ]
  },
  {
   "cell_type": "code",
   "execution_count": 9,
   "id": "bc03abab-0c7f-4658-b4f8-13a920d510fa",
   "metadata": {},
   "outputs": [],
   "source": [
    "parseComments = ET.XMLParser(target=ET.TreeBuilder(insert_comments=True))"
   ]
  },
  {
   "cell_type": "code",
   "execution_count": 10,
   "id": "032441e3-e2b6-44a5-b7b6-e143c1f9d5f5",
   "metadata": {},
   "outputs": [],
   "source": [
    "tree = ET.parse(file, parseComments)"
   ]
  },
  {
   "cell_type": "code",
   "execution_count": 11,
   "id": "8eeb41c8-ac34-42cf-8701-7c9d57bc3709",
   "metadata": {},
   "outputs": [],
   "source": [
    "root = tree.getroot()"
   ]
  },
  {
   "cell_type": "code",
   "execution_count": 12,
   "id": "251652d4-7524-4be5-877c-e5448d23afaa",
   "metadata": {},
   "outputs": [],
   "source": [
    "xmlMap = {c: p for p in tree.iter() for c in p }"
   ]
  },
  {
   "cell_type": "code",
   "execution_count": 13,
   "id": "0b350b9a-7163-44b1-b89d-af30e3a5566b",
   "metadata": {},
   "outputs": [],
   "source": [
    "nextHasComment = False"
   ]
  },
  {
   "cell_type": "code",
   "execution_count": 15,
   "id": "8fd6ca8f-6ab7-48ec-8432-db124c7ede1b",
   "metadata": {},
   "outputs": [],
   "source": [
    "class Depth:                     # The target object of the parser\n",
    "    maxDepth = 0\n",
    "    depth = 0\n",
    "    def start(self, tag, attrib):   # Called for each opening tag.\n",
    "        self.depth += 1\n",
    "        if self.depth > self.maxDepth:\n",
    "            self.maxDepth = self.depth\n",
    "    def end(self, tag):             # Called for each closing tag.\n",
    "        self.depth -= 1\n",
    "    def data(self, data):\n",
    "        pass            # We do not need to do anything with data.\n",
    "    def close(self):    # Called when all data has been parsed.\n",
    "        return self.maxDepth"
   ]
  },
  {
   "cell_type": "code",
   "execution_count": 16,
   "id": "636514d2-9bf8-42ff-a768-92632ba03636",
   "metadata": {},
   "outputs": [],
   "source": [
    "parseDepth = ET.XMLParser(target=Depth())\n",
    "parseDepth.feed(ET.tostring(root))\n",
    "maxDepth = parseDepth.close()"
   ]
  },
  {
   "cell_type": "code",
   "execution_count": 17,
   "id": "3a0a3107-7ebb-44fc-b6bc-8323e540ae94",
   "metadata": {},
   "outputs": [],
   "source": [
    "def getText(node):\n",
    "    try:\n",
    "        match = re.search('(?:{.*?})(.*)', node)\n",
    "        text = match.group(1)\n",
    "    except:\n",
    "        text = node\n",
    "    return text"
   ]
  },
  {
   "cell_type": "code",
   "execution_count": 18,
   "id": "92627d5a-11d0-4af2-8cd7-0242c82bc8df",
   "metadata": {},
   "outputs": [],
   "source": [
    "def getColumn(node):\n",
    "    counter = 0\n",
    "    newValue = node\n",
    "    while newValue != None:\n",
    "        try:\n",
    "            newValue = xmlMap.get(newValue)\n",
    "            counter += 1\n",
    "        except:\n",
    "            break\n",
    "    return counter"
   ]
  },
  {
   "cell_type": "code",
   "execution_count": 19,
   "id": "fc98a4aa-8059-48f2-98bf-3e9e0d74bf4c",
   "metadata": {},
   "outputs": [],
   "source": [
    "for index, node in enumerate(root.iter()):\n",
    "    nodeText = getText(node.tag)\n",
    "    column = getColumn(node)\n",
    "    neededColumns = maxDepth + 1\n",
    "    \n",
    "    if \"function Comment\" in str(node):\n",
    "        nodeComment = node.text[:-1]\n",
    "        nextHasComment = True\n",
    "    elif index == 0:\n",
    "        title = nodeText\n",
    "        df = pd.DataFrame(columns=['Column {}'.format(x) for x in list(range(1,neededColumns))])\n",
    "        defaultColumns = ['Annotation', 'Description']\n",
    "        df[defaultColumns] = None\n",
    "        df.style.set_caption(title)\n",
    "        df.loc[len(df)] = {'Column {}'.format(column): nodeText, 'Annotation' : \"\", 'Description' : \"\"}\n",
    "    else:\n",
    "        df.loc[len(df)] = {'Column {}'.format(column): nodeText, 'Annotation' : \"(\"+nodeComment+\")\", 'Description' : \"\"} \\\n",
    "        if (nextHasComment and index != 0) else {'Column {}'.format(column): nodeText, 'Annotation' : \"\", 'Description' : \"\"}\n",
    "        nextHasComment = False"
   ]
  },
  {
   "cell_type": "code",
   "execution_count": null,
   "id": "65005926-d504-4df4-aa6c-4bfc15ac3863",
   "metadata": {},
   "outputs": [],
   "source": [
    "df.to_excel"
   ]
  },
  {
   "cell_type": "code",
   "execution_count": 20,
   "id": "eefadbc5-58ef-432d-b0a9-5276e13e7d59",
   "metadata": {},
   "outputs": [],
   "source": [
    "from tkinter.filedialog import asksaveasfile"
   ]
  },
  {
   "cell_type": "code",
   "execution_count": null,
   "id": "3ba45625-b59e-49ea-98f5-a99b0b693fb8",
   "metadata": {},
   "outputs": [],
   "source": []
  },
  {
   "cell_type": "code",
   "execution_count": 22,
   "id": "61994ca7-be52-468f-9b4f-ecfbbbe4b4c6",
   "metadata": {},
   "outputs": [],
   "source": [
    "exportName = 'test'"
   ]
  },
  {
   "cell_type": "code",
   "execution_count": 27,
   "id": "f58aa097-8ec6-4ae4-a19c-4980cf6765be",
   "metadata": {},
   "outputs": [],
   "source": [
    "def file_save(exportName):\n",
    "    #Tk().withdraw()\n",
    "    f =  asksaveasfile(title=exportName, defaultextension=\".xml\")\n",
    "    if f is None: # asksaveasfile return `None` if dialog closed with \"cancel\".\n",
    "        return\n",
    "    #text2save = str(text.get(1.0, END)) # starts from `1.0`, not `0.0`\n",
    "    f.write(filedialog)\n",
    "    f.close()"
   ]
  },
  {
   "cell_type": "code",
   "execution_count": 28,
   "id": "dbe7dee5-9d1c-4a76-9d69-1cf011feaf8a",
   "metadata": {},
   "outputs": [],
   "source": [
    "file_save(exportName)"
   ]
  },
  {
   "cell_type": "code",
   "execution_count": null,
   "id": "b8a63a7b-af7f-42c9-a914-2df5be71bac8",
   "metadata": {},
   "outputs": [],
   "source": []
  }
 ],
 "metadata": {
  "kernelspec": {
   "display_name": "Python 3 (ipykernel)",
   "language": "python",
   "name": "python3"
  },
  "language_info": {
   "codemirror_mode": {
    "name": "ipython",
    "version": 3
   },
   "file_extension": ".py",
   "mimetype": "text/x-python",
   "name": "python",
   "nbconvert_exporter": "python",
   "pygments_lexer": "ipython3",
   "version": "3.11.3"
  }
 },
 "nbformat": 4,
 "nbformat_minor": 5
}
